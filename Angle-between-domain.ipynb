{
 "cells": [
  {
   "cell_type": "code",
   "execution_count": 21,
   "id": "c9cf2b3f-f7ef-4b55-97bd-92d3edef5760",
   "metadata": {},
   "outputs": [
    {
     "name": "stdout",
     "output_type": "stream",
     "text": [
      "<Universe with 1220 atoms>\n"
     ]
    }
   ],
   "source": [
    "import MDAnalysis as mda\n",
    "u1 = mda.Universe('C:\\\\Users\\\\glauc\\\\OneDrive\\\\COVID-19\\\\PLP-pro\\\\Angle\\\\trj_xtc\\\\1029_b.pdb','C:\\\\Users\\\\glauc\\\\OneDrive\\\\COVID-19\\\\PLP-pro\\\\Angle\\\\trj_xtc\\\\1029_b.xtc', all_coordinates=True)\n",
    "u1.trajectory\n",
    "print(u1)"
   ]
  },
  {
   "cell_type": "code",
   "execution_count": 22,
   "id": "897aa2d8-e20d-4d14-8df3-abe704231686",
   "metadata": {},
   "outputs": [],
   "source": [
    "domains = {\n",
    "   \n",
    "    'H1' : u1.select_atoms(\"protein and resid 76-90\"),\n",
    "    'Ubl': u1.select_atoms(\"protein and resid 1-60\"),\n",
    "    'BL2': u1.select_atoms(\"protein and resid 265-272\")\n",
    "    \n",
    "}"
   ]
  },
  {
   "cell_type": "code",
   "execution_count": 23,
   "id": "48521963-c129-4661-bc17-a89c670f9589",
   "metadata": {},
   "outputs": [
    {
     "name": "stdout",
     "output_type": "stream",
     "text": [
      "{'H1': array([-12.09519994,   7.12166669,  -7.98201673]), 'Ubl': array([-15.38524077,  12.21359723, -22.62167592]), 'BL2': array([-5.39281248,  5.71228122, 18.34346882])}\n",
      "{'H1': array([-12.06733822,   7.17354374,  -7.96173379]), 'Ubl': array([-15.38155192,  12.21034019, -22.62575633]), 'BL2': array([-5.40546299,  5.72232155, 18.33186291])}\n"
     ]
    }
   ],
   "source": [
    "cg = dict((name, dom.centroid()) for name,dom in domains.items())\n",
    "cm = dict((name, dom.center_of_mass()) for name,dom in domains.items())\n",
    "print(cg)\n",
    "print (cm)"
   ]
  },
  {
   "cell_type": "code",
   "execution_count": 24,
   "id": "15e4d816-066c-4aba-ae77-23ce0473782b",
   "metadata": {},
   "outputs": [],
   "source": [
    "import numpy as np\n",
    "from numpy.linalg import norm"
   ]
  },
  {
   "cell_type": "code",
   "execution_count": 25,
   "id": "ecd7e972-0d77-4e4b-8bb9-e6754b875930",
   "metadata": {},
   "outputs": [
    {
     "name": "stdout",
     "output_type": "stream",
     "text": [
      "72.30560489094329\n"
     ]
    }
   ],
   "source": [
    "def theta_NMP(u1):\n",
    "    \"\"\"Calculate the vector between BL2-loop, Ridge and Ubl domain for PLpro in degrees\"\"\"\n",
    "    C = u1.select_atoms(\"resid 76 and (backbone or name CB)\").center_of_geometry()#BL2/Ubl\n",
    "    B = u1.select_atoms(\"resid 73 and (backbone or name CB)\").center_of_geometry()#H1\n",
    "    A = u1.select_atoms(\"resid 63 and (backbone or name CB)\").center_of_geometry()#H1\n",
    "    BA = A - B\n",
    "    BC = C - B\n",
    "    theta = np.arccos(np.dot(BA, BC)/(norm(BA)*norm(BC)))\n",
    "    return np.rad2deg(theta)\n",
    "\n",
    "print (theta_NMP(u1))"
   ]
  },
  {
   "cell_type": "code",
   "execution_count": null,
   "id": "6033b496-baf4-41c3-9edd-a18c5d929890",
   "metadata": {},
   "outputs": [],
   "source": []
  }
 ],
 "metadata": {
  "kernelspec": {
   "display_name": "Python 3 (ipykernel)",
   "language": "python",
   "name": "python3"
  },
  "language_info": {
   "codemirror_mode": {
    "name": "ipython",
    "version": 3
   },
   "file_extension": ".py",
   "mimetype": "text/x-python",
   "name": "python",
   "nbconvert_exporter": "python",
   "pygments_lexer": "ipython3",
   "version": "3.10.4"
  }
 },
 "nbformat": 4,
 "nbformat_minor": 5
}
